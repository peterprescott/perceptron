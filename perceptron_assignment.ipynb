{
 "cells": [
  {
   "cell_type": "markdown",
   "metadata": {},
   "source": [
    "# COMP527 Data Mining & Visualization: Text Classification Using Binary Perceptron Algorithm"
   ]
  },
  {
   "cell_type": "markdown",
   "metadata": {},
   "source": [
    "*Student 201442927. University of Liverpool.*"
   ]
  },
  {
   "cell_type": "markdown",
   "metadata": {},
   "source": [
    "## Questions/Tasks"
   ]
  },
  {
   "cell_type": "markdown",
   "metadata": {},
   "source": [
    "(1) Explain the Perceptron algorithm for the binary classification case, providing its pseudo code. (20 marks)\n",
    "\n",
    "(2) Prove that for a linearly separable dataset, perceptron algorithm will converge. (10 marks)\n",
    "\n",
    "(3) Implement a binary perceptron. (20 marks)\n",
    "\n",
    "(4) Use the binary perceptron to train classifiers to discriminate between (a) class 1 and class 2,\n",
    "(b) class 2 and class 3 and (c) class 1 and class 3. Report the train and test classification\n",
    "accuracies for each of the three classifiers after 20 iterations. Which pair of classes is most\n",
    "difficult to separate? (20 marks)\n",
    "\n",
    "(5) For the classifier (a) implemented in part (3) above, which feature is the most discriminative? (5 marks)\n",
    "\n",
    "(6) Extend the binary perceptron that you implemented in part (2) above to perform multi-class\n",
    "classification using the 1-vs-rest approach. Report the train and test classification accuracies\n",
    "for each of the three classes after training for 20 iterations. (15 marks),\n",
    "\n",
    "(7) Add an $ \\ell_{2} $ regularisation term to your multi-class classifier implemented in question (5). Set\n",
    "the regularisation coefficient to 0.01, 0.1, 1.0, 10.0, 100.0 and compare the train and test\n",
    "classification accuracy for each of the three classes. (10 marks)"
   ]
  },
  {
   "cell_type": "markdown",
   "metadata": {},
   "source": [
    "## Task (1) \n",
    ">Explain the Perceptron algorithm for the binary classification case, providing its pseudo code. (20 marks)"
   ]
  },
  {
   "cell_type": "markdown",
   "metadata": {},
   "source": [
    "Input: ProblemSize, InputPatterns, , \n",
    "Output: Weights\n",
    "Weights  InitializeWeights(ProblemSize)\n",
    "For ( To )\n",
    "      SelectInputPattern(InputPatterns)\n",
    "      ActivateNetwork(, Weights)\n",
    "      TransferActivation()\n",
    "    UpdateWeights(, , )\n",
    "End\n",
    "Return (Weights)"
   ]
  },
  {
   "cell_type": "markdown",
   "metadata": {},
   "source": [
    "## Task (2) \n",
    "> Prove that for a linearly separable dataset, perceptron algorithm will converge. (10 marks)"
   ]
  },
  {
   "cell_type": "markdown",
   "metadata": {},
   "source": []
  },
  {
   "cell_type": "markdown",
   "metadata": {},
   "source": [
    "## Task (3) \n",
    "> Implement a binary perceptron. (20 marks)"
   ]
  },
  {
   "cell_type": "markdown",
   "metadata": {},
   "source": []
  },
  {
   "cell_type": "markdown",
   "metadata": {},
   "source": [
    "## Task (4) \n",
    "> Use the binary perceptron to train classifiers to discriminate between (a) class 1 and class 2, (b) class 2 and class 3 and (c) class 1 and class 3. Report the train and test classification accuracies for each of the three classifiers after 20 iterations. Which pair of classes is most difficult to separate? (20 marks)"
   ]
  },
  {
   "cell_type": "markdown",
   "metadata": {},
   "source": [
    "## Task (5) \n",
    "> For the classifier (a) implemented in part (3) above, which feature is the most discriminative? (5 marks)"
   ]
  },
  {
   "cell_type": "markdown",
   "metadata": {},
   "source": [
    "## Task (6) \n",
    "> Extend the binary perceptron that you implemented in part (2) above to perform multi-class classification using the 1-vs-rest approach. Report the train and test classification accuracies for each of the three classes after training for 20 iterations. (15 marks),"
   ]
  },
  {
   "cell_type": "markdown",
   "metadata": {},
   "source": [
    "## Task (7) \n",
    "> Add an $\\ell_{2}$ regularisation term to your multi-class classifier implemented in question (5). Set the regularisation coefficient to 0.01, 0.1, 1.0, 10.0, 100.0 and compare the train and test classification accuracy for each of the three classes. (10 marks)"
   ]
  }
 ],
 "metadata": {
  "kernelspec": {
   "display_name": "Python 3",
   "language": "python",
   "name": "python3"
  },
  "language_info": {
   "codemirror_mode": {
    "name": "ipython",
    "version": 3
   },
   "file_extension": ".py",
   "mimetype": "text/x-python",
   "name": "python",
   "nbconvert_exporter": "python",
   "pygments_lexer": "ipython3",
   "version": "3.7.4"
  }
 },
 "nbformat": 4,
 "nbformat_minor": 4
}
